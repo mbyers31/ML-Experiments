{
  "nbformat": 4,
  "nbformat_minor": 0,
  "metadata": {
    "colab": {
      "name": "speech_recognition.ipynb",
      "provenance": [],
      "collapsed_sections": [
        "R307SETc6WoF",
        "Y9VrC9UjO7bK",
        "rjB2OuLdThQQ"
      ],
      "toc_visible": true
    },
    "kernelspec": {
      "name": "python3",
      "display_name": "Python 3"
    }
  },
  "cells": [
    {
      "cell_type": "markdown",
      "metadata": {
        "id": "lwdxFWXz8iyo"
      },
      "source": [
        "#Speech Recognition Experiment"
      ]
    },
    {
      "cell_type": "markdown",
      "metadata": {
        "id": "VkOXDgSD8mnn"
      },
      "source": [
        "## Install speech recognition library"
      ]
    },
    {
      "cell_type": "code",
      "metadata": {
        "id": "s9d6_4rp8gCl",
        "outputId": "322f6083-19d3-4075-aff0-0e30718f90c2",
        "colab": {
          "base_uri": "https://localhost:8080/",
          "height": 128
        }
      },
      "source": [
        "!pip install SpeechRecognition"
      ],
      "execution_count": null,
      "outputs": [
        {
          "output_type": "stream",
          "text": [
            "Collecting SpeechRecognition\n",
            "\u001b[?25l  Downloading https://files.pythonhosted.org/packages/26/e1/7f5678cd94ec1234269d23756dbdaa4c8cfaed973412f88ae8adf7893a50/SpeechRecognition-3.8.1-py2.py3-none-any.whl (32.8MB)\n",
            "\u001b[K     |████████████████████████████████| 32.8MB 123kB/s \n",
            "\u001b[?25hInstalling collected packages: SpeechRecognition\n",
            "Successfully installed SpeechRecognition-3.8.1\n"
          ],
          "name": "stdout"
        }
      ]
    },
    {
      "cell_type": "markdown",
      "metadata": {
        "id": "3nzaPog6826R"
      },
      "source": [
        "##Imports"
      ]
    },
    {
      "cell_type": "code",
      "metadata": {
        "id": "QuZJS6kp84j2"
      },
      "source": [
        "import speech_recognition as sr\n",
        "import pandas as pd\n",
        "import numpy as np"
      ],
      "execution_count": null,
      "outputs": []
    },
    {
      "cell_type": "markdown",
      "metadata": {
        "id": "D3N7Zkji51xy"
      },
      "source": [
        "##Create a recognizer"
      ]
    },
    {
      "cell_type": "code",
      "metadata": {
        "id": "f7AZM2Uk9J8H"
      },
      "source": [
        "recognizer = sr.Recognizer()"
      ],
      "execution_count": null,
      "outputs": []
    },
    {
      "cell_type": "markdown",
      "metadata": {
        "id": "4r0065vz5-TB"
      },
      "source": [
        "Note: only Google is freely available but SR works with other speech recognitions tools"
      ]
    },
    {
      "cell_type": "markdown",
      "metadata": {
        "id": "R307SETc6WoF"
      },
      "source": [
        "##Open Audio file"
      ]
    },
    {
      "cell_type": "code",
      "metadata": {
        "id": "zKa8AEhI5sW9"
      },
      "source": [
        "harvard = sr.AudioFile('/content/harvard.wav')\n",
        "\n",
        "with harvard as source:\n",
        "  audio = recognizer.record(source)"
      ],
      "execution_count": null,
      "outputs": []
    },
    {
      "cell_type": "code",
      "metadata": {
        "id": "jf358QDu8BuX"
      },
      "source": [
        "transcript = recognizer.recognize_google(audio)"
      ],
      "execution_count": null,
      "outputs": []
    },
    {
      "cell_type": "code",
      "metadata": {
        "id": "78vNFXYCJ6B-",
        "outputId": "7a6e0dd5-28db-45a3-cb11-36dc5e056358",
        "colab": {
          "base_uri": "https://localhost:8080/",
          "height": 55
        }
      },
      "source": [
        "print(transcript)"
      ],
      "execution_count": null,
      "outputs": [
        {
          "output_type": "stream",
          "text": [
            "the stale smell of old beer lingers it takes heat to bring out the odor a cold dip restores health and zest a salt pickle taste fine with ham tacos al Pastore are my favorite a zestful food is be hot cross bun\n"
          ],
          "name": "stdout"
        }
      ]
    },
    {
      "cell_type": "code",
      "metadata": {
        "id": "gYHN4EX8OCbF",
        "outputId": "fdc4e39e-d943-46fc-cbb1-2324505f4834",
        "colab": {
          "base_uri": "https://localhost:8080/",
          "height": 108
        }
      },
      "source": [
        "!apt install unzip"
      ],
      "execution_count": null,
      "outputs": [
        {
          "output_type": "stream",
          "text": [
            "Reading package lists... Done\n",
            "Building dependency tree       \n",
            "Reading state information... Done\n",
            "unzip is already the newest version (6.0-21ubuntu1).\n",
            "0 upgraded, 0 newly installed, 0 to remove and 21 not upgraded.\n"
          ],
          "name": "stdout"
        }
      ]
    },
    {
      "cell_type": "markdown",
      "metadata": {
        "id": "d4dJkZDIO235"
      },
      "source": [
        "#Audio to text pipeline"
      ]
    },
    {
      "cell_type": "code",
      "metadata": {
        "id": "yibJ0TCdPKqr"
      },
      "source": [
        "import matplotlib.pyplot as plt\n",
        "import numpy as np\n",
        "import pandas as pd\n",
        "import seaborn as sns\n",
        "from sklearn.metrics import classification_report\n",
        "from sklearn.metrics import confusion_matrix\n",
        "from sklearn.model_selection import KFold\n",
        "from sklearn.utils import class_weight, shuffle\n",
        "import tensorflow as tf\n",
        "from tensorflow import keras\n",
        "from tensorflow.keras import layers\n",
        "from tensorflow.keras.preprocessing.sequence import pad_sequences\n",
        "from tensorflow.keras.preprocessing.text import Tokenizer\n",
        "from keras.utils import np_utils"
      ],
      "execution_count": null,
      "outputs": []
    },
    {
      "cell_type": "markdown",
      "metadata": {
        "id": "Y9VrC9UjO7bK"
      },
      "source": [
        "##Untar data"
      ]
    },
    {
      "cell_type": "code",
      "metadata": {
        "id": "WtFxxkLrMS4G",
        "outputId": "f4b0eb88-20d9-4266-fd76-195023ebaf42",
        "colab": {
          "base_uri": "https://localhost:8080/",
          "height": 1000
        }
      },
      "source": [
        "!tar -zxvf /content/dev-clean.tar.gz"
      ],
      "execution_count": null,
      "outputs": [
        {
          "output_type": "stream",
          "text": [
            "LibriSpeech/LICENSE.TXT\n",
            "LibriSpeech/README.TXT\n",
            "LibriSpeech/CHAPTERS.TXT\n",
            "LibriSpeech/SPEAKERS.TXT\n",
            "LibriSpeech/BOOKS.TXT\n",
            "LibriSpeech/dev-clean/\n",
            "LibriSpeech/dev-clean/2277/\n",
            "LibriSpeech/dev-clean/2277/149896/\n",
            "LibriSpeech/dev-clean/2277/149896/2277-149896-0026.flac\n",
            "LibriSpeech/dev-clean/2277/149896/2277-149896-0005.flac\n",
            "LibriSpeech/dev-clean/2277/149896/2277-149896-0033.flac\n",
            "LibriSpeech/dev-clean/2277/149896/2277-149896-0006.flac\n",
            "LibriSpeech/dev-clean/2277/149896/2277-149896-0018.flac\n",
            "LibriSpeech/dev-clean/2277/149896/2277-149896-0034.flac\n",
            "LibriSpeech/dev-clean/2277/149896/2277-149896-0021.flac\n",
            "LibriSpeech/dev-clean/2277/149896/2277-149896-0015.flac\n",
            "LibriSpeech/dev-clean/2277/149896/2277-149896-0012.flac\n",
            "LibriSpeech/dev-clean/2277/149896/2277-149896-0027.flac\n",
            "LibriSpeech/dev-clean/2277/149896/2277-149896-0007.flac\n",
            "LibriSpeech/dev-clean/2277/149896/2277-149896-0030.flac\n",
            "LibriSpeech/dev-clean/2277/149896/2277-149896-0011.flac\n",
            "LibriSpeech/dev-clean/2277/149896/2277-149896-0009.flac\n",
            "LibriSpeech/dev-clean/2277/149896/2277-149896.trans.txt\n",
            "LibriSpeech/dev-clean/2277/149896/2277-149896-0003.flac\n",
            "LibriSpeech/dev-clean/2277/149896/2277-149896-0004.flac\n",
            "LibriSpeech/dev-clean/2277/149896/2277-149896-0017.flac\n",
            "LibriSpeech/dev-clean/2277/149896/2277-149896-0031.flac\n",
            "LibriSpeech/dev-clean/2277/149896/2277-149896-0002.flac\n",
            "LibriSpeech/dev-clean/2277/149896/2277-149896-0013.flac\n",
            "LibriSpeech/dev-clean/2277/149896/2277-149896-0024.flac\n",
            "LibriSpeech/dev-clean/2277/149896/2277-149896-0028.flac\n",
            "LibriSpeech/dev-clean/2277/149896/2277-149896-0023.flac\n",
            "LibriSpeech/dev-clean/2277/149896/2277-149896-0000.flac\n",
            "LibriSpeech/dev-clean/2277/149896/2277-149896-0010.flac\n",
            "LibriSpeech/dev-clean/2277/149896/2277-149896-0001.flac\n",
            "LibriSpeech/dev-clean/2277/149896/2277-149896-0019.flac\n",
            "LibriSpeech/dev-clean/2277/149896/2277-149896-0008.flac\n",
            "LibriSpeech/dev-clean/2277/149896/2277-149896-0032.flac\n",
            "LibriSpeech/dev-clean/2277/149896/2277-149896-0016.flac\n",
            "LibriSpeech/dev-clean/2277/149896/2277-149896-0014.flac\n",
            "LibriSpeech/dev-clean/2277/149896/2277-149896-0022.flac\n",
            "LibriSpeech/dev-clean/2277/149896/2277-149896-0025.flac\n",
            "LibriSpeech/dev-clean/2277/149896/2277-149896-0029.flac\n",
            "LibriSpeech/dev-clean/2277/149896/2277-149896-0020.flac\n",
            "LibriSpeech/dev-clean/2277/149897/\n",
            "LibriSpeech/dev-clean/2277/149897/2277-149897-0021.flac\n",
            "LibriSpeech/dev-clean/2277/149897/2277-149897-0001.flac\n",
            "LibriSpeech/dev-clean/2277/149897/2277-149897-0031.flac\n",
            "LibriSpeech/dev-clean/2277/149897/2277-149897-0017.flac\n",
            "LibriSpeech/dev-clean/2277/149897/2277-149897-0005.flac\n",
            "LibriSpeech/dev-clean/2277/149897/2277-149897-0025.flac\n",
            "LibriSpeech/dev-clean/2277/149897/2277-149897-0034.flac\n",
            "LibriSpeech/dev-clean/2277/149897/2277-149897-0036.flac\n",
            "LibriSpeech/dev-clean/2277/149897/2277-149897-0026.flac\n",
            "LibriSpeech/dev-clean/2277/149897/2277-149897-0028.flac\n",
            "LibriSpeech/dev-clean/2277/149897/2277-149897-0037.flac\n",
            "LibriSpeech/dev-clean/2277/149897/2277-149897-0007.flac\n",
            "LibriSpeech/dev-clean/2277/149897/2277-149897-0003.flac\n",
            "LibriSpeech/dev-clean/2277/149897/2277-149897-0013.flac\n",
            "LibriSpeech/dev-clean/2277/149897/2277-149897-0004.flac\n",
            "LibriSpeech/dev-clean/2277/149897/2277-149897-0018.flac\n",
            "LibriSpeech/dev-clean/2277/149897/2277-149897-0016.flac\n",
            "LibriSpeech/dev-clean/2277/149897/2277-149897-0027.flac\n",
            "LibriSpeech/dev-clean/2277/149897/2277-149897-0029.flac\n",
            "LibriSpeech/dev-clean/2277/149897/2277-149897-0019.flac\n",
            "LibriSpeech/dev-clean/2277/149897/2277-149897-0023.flac\n",
            "LibriSpeech/dev-clean/2277/149897/2277-149897-0030.flac\n",
            "LibriSpeech/dev-clean/2277/149897/2277-149897-0009.flac\n",
            "LibriSpeech/dev-clean/2277/149897/2277-149897-0010.flac\n",
            "LibriSpeech/dev-clean/2277/149897/2277-149897-0014.flac\n",
            "LibriSpeech/dev-clean/2277/149897/2277-149897-0032.flac\n",
            "LibriSpeech/dev-clean/2277/149897/2277-149897-0002.flac\n",
            "LibriSpeech/dev-clean/2277/149897/2277-149897-0006.flac\n",
            "LibriSpeech/dev-clean/2277/149897/2277-149897.trans.txt\n",
            "LibriSpeech/dev-clean/2277/149897/2277-149897-0015.flac\n",
            "LibriSpeech/dev-clean/2277/149897/2277-149897-0022.flac\n",
            "LibriSpeech/dev-clean/2277/149897/2277-149897-0035.flac\n",
            "LibriSpeech/dev-clean/2277/149897/2277-149897-0008.flac\n",
            "LibriSpeech/dev-clean/2277/149897/2277-149897-0012.flac\n",
            "LibriSpeech/dev-clean/2277/149897/2277-149897-0000.flac\n",
            "LibriSpeech/dev-clean/2277/149897/2277-149897-0011.flac\n",
            "LibriSpeech/dev-clean/2277/149897/2277-149897-0020.flac\n",
            "LibriSpeech/dev-clean/2277/149897/2277-149897-0033.flac\n",
            "LibriSpeech/dev-clean/2277/149897/2277-149897-0024.flac\n",
            "LibriSpeech/dev-clean/2277/149874/\n",
            "LibriSpeech/dev-clean/2277/149874/2277-149874-0000.flac\n",
            "LibriSpeech/dev-clean/2277/149874/2277-149874-0008.flac\n",
            "LibriSpeech/dev-clean/2277/149874/2277-149874-0006.flac\n",
            "LibriSpeech/dev-clean/2277/149874/2277-149874-0012.flac\n",
            "LibriSpeech/dev-clean/2277/149874/2277-149874-0011.flac\n",
            "LibriSpeech/dev-clean/2277/149874/2277-149874-0015.flac\n",
            "LibriSpeech/dev-clean/2277/149874/2277-149874-0005.flac\n",
            "LibriSpeech/dev-clean/2277/149874/2277-149874-0003.flac\n",
            "LibriSpeech/dev-clean/2277/149874/2277-149874-0007.flac\n",
            "LibriSpeech/dev-clean/2277/149874/2277-149874-0004.flac\n",
            "LibriSpeech/dev-clean/2277/149874/2277-149874-0009.flac\n",
            "LibriSpeech/dev-clean/2277/149874/2277-149874-0013.flac\n",
            "LibriSpeech/dev-clean/2277/149874/2277-149874-0017.flac\n",
            "LibriSpeech/dev-clean/2277/149874/2277-149874-0019.flac\n",
            "LibriSpeech/dev-clean/2277/149874/2277-149874-0002.flac\n",
            "LibriSpeech/dev-clean/2277/149874/2277-149874-0020.flac\n",
            "LibriSpeech/dev-clean/2277/149874/2277-149874-0001.flac\n",
            "LibriSpeech/dev-clean/2277/149874/2277-149874-0014.flac\n",
            "LibriSpeech/dev-clean/2277/149874/2277-149874-0018.flac\n",
            "LibriSpeech/dev-clean/2277/149874/2277-149874-0010.flac\n",
            "LibriSpeech/dev-clean/2277/149874/2277-149874.trans.txt\n",
            "LibriSpeech/dev-clean/2277/149874/2277-149874-0016.flac\n",
            "LibriSpeech/dev-clean/2277/149874/2277-149874-0021.flac\n",
            "LibriSpeech/dev-clean/2035/\n",
            "LibriSpeech/dev-clean/2035/147960/\n",
            "LibriSpeech/dev-clean/2035/147960/2035-147960-0013.flac\n",
            "LibriSpeech/dev-clean/2035/147960/2035-147960-0008.flac\n",
            "LibriSpeech/dev-clean/2035/147960/2035-147960-0014.flac\n",
            "LibriSpeech/dev-clean/2035/147960/2035-147960-0011.flac\n",
            "LibriSpeech/dev-clean/2035/147960/2035-147960-0000.flac\n",
            "LibriSpeech/dev-clean/2035/147960/2035-147960-0010.flac\n",
            "LibriSpeech/dev-clean/2035/147960/2035-147960-0005.flac\n",
            "LibriSpeech/dev-clean/2035/147960/2035-147960.trans.txt\n",
            "LibriSpeech/dev-clean/2035/147960/2035-147960-0001.flac\n",
            "LibriSpeech/dev-clean/2035/147960/2035-147960-0015.flac\n",
            "LibriSpeech/dev-clean/2035/147960/2035-147960-0016.flac\n",
            "LibriSpeech/dev-clean/2035/147960/2035-147960-0003.flac\n",
            "LibriSpeech/dev-clean/2035/147960/2035-147960-0002.flac\n",
            "LibriSpeech/dev-clean/2035/147960/2035-147960-0006.flac\n",
            "LibriSpeech/dev-clean/2035/147960/2035-147960-0007.flac\n",
            "LibriSpeech/dev-clean/2035/147960/2035-147960-0004.flac\n",
            "LibriSpeech/dev-clean/2035/147960/2035-147960-0009.flac\n",
            "LibriSpeech/dev-clean/2035/147960/2035-147960-0012.flac\n",
            "LibriSpeech/dev-clean/2035/152373/\n",
            "LibriSpeech/dev-clean/2035/152373/2035-152373-0003.flac\n",
            "LibriSpeech/dev-clean/2035/152373/2035-152373-0014.flac\n",
            "LibriSpeech/dev-clean/2035/152373/2035-152373-0005.flac\n",
            "LibriSpeech/dev-clean/2035/152373/2035-152373-0006.flac\n",
            "LibriSpeech/dev-clean/2035/152373/2035-152373-0002.flac\n",
            "LibriSpeech/dev-clean/2035/152373/2035-152373-0013.flac\n",
            "LibriSpeech/dev-clean/2035/152373/2035-152373-0016.flac\n",
            "LibriSpeech/dev-clean/2035/152373/2035-152373-0012.flac\n",
            "LibriSpeech/dev-clean/2035/152373/2035-152373-0015.flac\n",
            "LibriSpeech/dev-clean/2035/152373/2035-152373-0008.flac\n",
            "LibriSpeech/dev-clean/2035/152373/2035-152373-0017.flac\n",
            "LibriSpeech/dev-clean/2035/152373/2035-152373-0000.flac\n",
            "LibriSpeech/dev-clean/2035/152373/2035-152373-0011.flac\n",
            "LibriSpeech/dev-clean/2035/152373/2035-152373-0010.flac\n",
            "LibriSpeech/dev-clean/2035/152373/2035-152373-0004.flac\n",
            "LibriSpeech/dev-clean/2035/152373/2035-152373-0009.flac\n",
            "LibriSpeech/dev-clean/2035/152373/2035-152373-0018.flac\n",
            "LibriSpeech/dev-clean/2035/152373/2035-152373-0007.flac\n",
            "LibriSpeech/dev-clean/2035/152373/2035-152373.trans.txt\n",
            "LibriSpeech/dev-clean/2035/152373/2035-152373-0001.flac\n",
            "LibriSpeech/dev-clean/2035/147961/\n",
            "LibriSpeech/dev-clean/2035/147961/2035-147961-0017.flac\n",
            "LibriSpeech/dev-clean/2035/147961/2035-147961-0032.flac\n",
            "LibriSpeech/dev-clean/2035/147961/2035-147961-0016.flac\n",
            "LibriSpeech/dev-clean/2035/147961/2035-147961-0015.flac\n",
            "LibriSpeech/dev-clean/2035/147961/2035-147961-0029.flac\n",
            "LibriSpeech/dev-clean/2035/147961/2035-147961-0039.flac\n",
            "LibriSpeech/dev-clean/2035/147961/2035-147961-0026.flac\n",
            "LibriSpeech/dev-clean/2035/147961/2035-147961-0035.flac\n",
            "LibriSpeech/dev-clean/2035/147961/2035-147961.trans.txt\n",
            "LibriSpeech/dev-clean/2035/147961/2035-147961-0010.flac\n",
            "LibriSpeech/dev-clean/2035/147961/2035-147961-0007.flac\n",
            "LibriSpeech/dev-clean/2035/147961/2035-147961-0040.flac\n",
            "LibriSpeech/dev-clean/2035/147961/2035-147961-0005.flac\n",
            "LibriSpeech/dev-clean/2035/147961/2035-147961-0013.flac\n",
            "LibriSpeech/dev-clean/2035/147961/2035-147961-0006.flac\n",
            "LibriSpeech/dev-clean/2035/147961/2035-147961-0034.flac\n",
            "LibriSpeech/dev-clean/2035/147961/2035-147961-0008.flac\n",
            "LibriSpeech/dev-clean/2035/147961/2035-147961-0031.flac\n",
            "LibriSpeech/dev-clean/2035/147961/2035-147961-0024.flac\n",
            "LibriSpeech/dev-clean/2035/147961/2035-147961-0027.flac\n",
            "LibriSpeech/dev-clean/2035/147961/2035-147961-0022.flac\n",
            "LibriSpeech/dev-clean/2035/147961/2035-147961-0018.flac\n",
            "LibriSpeech/dev-clean/2035/147961/2035-147961-0023.flac\n",
            "LibriSpeech/dev-clean/2035/147961/2035-147961-0000.flac\n",
            "LibriSpeech/dev-clean/2035/147961/2035-147961-0003.flac\n",
            "LibriSpeech/dev-clean/2035/147961/2035-147961-0012.flac\n",
            "LibriSpeech/dev-clean/2035/147961/2035-147961-0025.flac\n",
            "LibriSpeech/dev-clean/2035/147961/2035-147961-0011.flac\n",
            "LibriSpeech/dev-clean/2035/147961/2035-147961-0021.flac\n",
            "LibriSpeech/dev-clean/2035/147961/2035-147961-0014.flac\n",
            "LibriSpeech/dev-clean/2035/147961/2035-147961-0019.flac\n",
            "LibriSpeech/dev-clean/2035/147961/2035-147961-0004.flac\n",
            "LibriSpeech/dev-clean/2035/147961/2035-147961-0033.flac\n",
            "LibriSpeech/dev-clean/2035/147961/2035-147961-0009.flac\n",
            "LibriSpeech/dev-clean/2035/147961/2035-147961-0037.flac\n",
            "LibriSpeech/dev-clean/2035/147961/2035-147961-0030.flac\n",
            "LibriSpeech/dev-clean/2035/147961/2035-147961-0001.flac\n",
            "LibriSpeech/dev-clean/2035/147961/2035-147961-0002.flac\n",
            "LibriSpeech/dev-clean/2035/147961/2035-147961-0020.flac\n",
            "LibriSpeech/dev-clean/2035/147961/2035-147961-0038.flac\n",
            "LibriSpeech/dev-clean/2035/147961/2035-147961-0036.flac\n",
            "LibriSpeech/dev-clean/2035/147961/2035-147961-0028.flac\n",
            "LibriSpeech/dev-clean/2086/\n",
            "LibriSpeech/dev-clean/2086/149214/\n",
            "LibriSpeech/dev-clean/2086/149214/2086-149214.trans.txt\n",
            "LibriSpeech/dev-clean/2086/149214/2086-149214-0001.flac\n",
            "LibriSpeech/dev-clean/2086/149214/2086-149214-0004.flac\n",
            "LibriSpeech/dev-clean/2086/149214/2086-149214-0000.flac\n",
            "LibriSpeech/dev-clean/2086/149214/2086-149214-0002.flac\n",
            "LibriSpeech/dev-clean/2086/149214/2086-149214-0003.flac\n",
            "LibriSpeech/dev-clean/2086/149220/\n",
            "LibriSpeech/dev-clean/2086/149220/2086-149220-0004.flac\n",
            "LibriSpeech/dev-clean/2086/149220/2086-149220-0013.flac\n",
            "LibriSpeech/dev-clean/2086/149220/2086-149220-0047.flac\n",
            "LibriSpeech/dev-clean/2086/149220/2086-149220-0007.flac\n",
            "LibriSpeech/dev-clean/2086/149220/2086-149220-0012.flac\n",
            "LibriSpeech/dev-clean/2086/149220/2086-149220-0028.flac\n",
            "LibriSpeech/dev-clean/2086/149220/2086-149220-0025.flac\n",
            "LibriSpeech/dev-clean/2086/149220/2086-149220-0040.flac\n",
            "LibriSpeech/dev-clean/2086/149220/2086-149220-0030.flac\n",
            "LibriSpeech/dev-clean/2086/149220/2086-149220-0003.flac\n",
            "LibriSpeech/dev-clean/2086/149220/2086-149220-0019.flac\n",
            "LibriSpeech/dev-clean/2086/149220/2086-149220-0038.flac\n",
            "LibriSpeech/dev-clean/2086/149220/2086-149220-0002.flac\n",
            "LibriSpeech/dev-clean/2086/149220/2086-149220-0000.flac\n",
            "LibriSpeech/dev-clean/2086/149220/2086-149220.trans.txt\n",
            "LibriSpeech/dev-clean/2086/149220/2086-149220-0008.flac\n",
            "LibriSpeech/dev-clean/2086/149220/2086-149220-0011.flac\n",
            "LibriSpeech/dev-clean/2086/149220/2086-149220-0048.flac\n",
            "LibriSpeech/dev-clean/2086/149220/2086-149220-0022.flac\n",
            "LibriSpeech/dev-clean/2086/149220/2086-149220-0042.flac\n",
            "LibriSpeech/dev-clean/2086/149220/2086-149220-0027.flac\n",
            "LibriSpeech/dev-clean/2086/149220/2086-149220-0037.flac\n",
            "LibriSpeech/dev-clean/2086/149220/2086-149220-0044.flac\n",
            "LibriSpeech/dev-clean/2086/149220/2086-149220-0014.flac\n",
            "LibriSpeech/dev-clean/2086/149220/2086-149220-0024.flac\n",
            "LibriSpeech/dev-clean/2086/149220/2086-149220-0033.flac\n",
            "LibriSpeech/dev-clean/2086/149220/2086-149220-0020.flac\n",
            "LibriSpeech/dev-clean/2086/149220/2086-149220-0035.flac\n",
            "LibriSpeech/dev-clean/2086/149220/2086-149220-0032.flac\n",
            "LibriSpeech/dev-clean/2086/149220/2086-149220-0001.flac\n",
            "LibriSpeech/dev-clean/2086/149220/2086-149220-0010.flac\n",
            "LibriSpeech/dev-clean/2086/149220/2086-149220-0041.flac\n",
            "LibriSpeech/dev-clean/2086/149220/2086-149220-0049.flac\n",
            "LibriSpeech/dev-clean/2086/149220/2086-149220-0005.flac\n",
            "LibriSpeech/dev-clean/2086/149220/2086-149220-0015.flac\n",
            "LibriSpeech/dev-clean/2086/149220/2086-149220-0021.flac\n",
            "LibriSpeech/dev-clean/2086/149220/2086-149220-0018.flac\n",
            "LibriSpeech/dev-clean/2086/149220/2086-149220-0016.flac\n",
            "LibriSpeech/dev-clean/2086/149220/2086-149220-0029.flac\n",
            "LibriSpeech/dev-clean/2086/149220/2086-149220-0046.flac\n",
            "LibriSpeech/dev-clean/2086/149220/2086-149220-0009.flac\n",
            "LibriSpeech/dev-clean/2086/149220/2086-149220-0031.flac\n",
            "LibriSpeech/dev-clean/2086/149220/2086-149220-0045.flac\n",
            "LibriSpeech/dev-clean/2086/149220/2086-149220-0036.flac\n",
            "LibriSpeech/dev-clean/2086/149220/2086-149220-0017.flac\n",
            "LibriSpeech/dev-clean/2086/149220/2086-149220-0023.flac\n",
            "LibriSpeech/dev-clean/2086/149220/2086-149220-0043.flac\n",
            "LibriSpeech/dev-clean/2086/149220/2086-149220-0039.flac\n",
            "LibriSpeech/dev-clean/2086/149220/2086-149220-0034.flac\n",
            "LibriSpeech/dev-clean/2086/149220/2086-149220-0026.flac\n",
            "LibriSpeech/dev-clean/2086/149220/2086-149220-0006.flac\n",
            "LibriSpeech/dev-clean/7976/\n",
            "LibriSpeech/dev-clean/7976/110124/\n",
            "LibriSpeech/dev-clean/7976/110124/7976-110124-0019.flac\n",
            "LibriSpeech/dev-clean/7976/110124/7976-110124-0004.flac\n",
            "LibriSpeech/dev-clean/7976/110124/7976-110124-0015.flac\n",
            "LibriSpeech/dev-clean/7976/110124/7976-110124-0016.flac\n",
            "LibriSpeech/dev-clean/7976/110124/7976-110124-0000.flac\n",
            "LibriSpeech/dev-clean/7976/110124/7976-110124-0008.flac\n",
            "LibriSpeech/dev-clean/7976/110124/7976-110124-0017.flac\n",
            "LibriSpeech/dev-clean/7976/110124/7976-110124-0021.flac\n",
            "LibriSpeech/dev-clean/7976/110124/7976-110124-0007.flac\n",
            "LibriSpeech/dev-clean/7976/110124/7976-110124-0025.flac\n",
            "LibriSpeech/dev-clean/7976/110124/7976-110124-0020.flac\n",
            "LibriSpeech/dev-clean/7976/110124/7976-110124-0002.flac\n",
            "LibriSpeech/dev-clean/7976/110124/7976-110124-0001.flac\n",
            "LibriSpeech/dev-clean/7976/110124/7976-110124-0005.flac\n",
            "LibriSpeech/dev-clean/7976/110124/7976-110124-0006.flac\n",
            "LibriSpeech/dev-clean/7976/110124/7976-110124-0013.flac\n",
            "LibriSpeech/dev-clean/7976/110124/7976-110124-0024.flac\n",
            "LibriSpeech/dev-clean/7976/110124/7976-110124-0014.flac\n",
            "LibriSpeech/dev-clean/7976/110124/7976-110124-0012.flac\n",
            "LibriSpeech/dev-clean/7976/110124/7976-110124-0010.flac\n",
            "LibriSpeech/dev-clean/7976/110124/7976-110124-0009.flac\n",
            "LibriSpeech/dev-clean/7976/110124/7976-110124-0011.flac\n",
            "LibriSpeech/dev-clean/7976/110124/7976-110124-0022.flac\n",
            "LibriSpeech/dev-clean/7976/110124/7976-110124.trans.txt\n",
            "LibriSpeech/dev-clean/7976/110124/7976-110124-0018.flac\n",
            "LibriSpeech/dev-clean/7976/110124/7976-110124-0003.flac\n",
            "LibriSpeech/dev-clean/7976/110124/7976-110124-0023.flac\n",
            "LibriSpeech/dev-clean/7976/105575/\n",
            "LibriSpeech/dev-clean/7976/105575/7976-105575-0020.flac\n",
            "LibriSpeech/dev-clean/7976/105575/7976-105575.trans.txt\n",
            "LibriSpeech/dev-clean/7976/105575/7976-105575-0017.flac\n",
            "LibriSpeech/dev-clean/7976/105575/7976-105575-0008.flac\n",
            "LibriSpeech/dev-clean/7976/105575/7976-105575-0025.flac\n",
            "LibriSpeech/dev-clean/7976/105575/7976-105575-0002.flac\n",
            "LibriSpeech/dev-clean/7976/105575/7976-105575-0019.flac\n",
            "LibriSpeech/dev-clean/7976/105575/7976-105575-0013.flac\n",
            "LibriSpeech/dev-clean/7976/105575/7976-105575-0004.flac\n",
            "LibriSpeech/dev-clean/7976/105575/7976-105575-0007.flac\n",
            "LibriSpeech/dev-clean/7976/105575/7976-105575-0010.flac\n",
            "LibriSpeech/dev-clean/7976/105575/7976-105575-0000.flac\n",
            "LibriSpeech/dev-clean/7976/105575/7976-105575-0006.flac\n",
            "LibriSpeech/dev-clean/7976/105575/7976-105575-0026.flac\n",
            "LibriSpeech/dev-clean/7976/105575/7976-105575-0009.flac\n",
            "LibriSpeech/dev-clean/7976/105575/7976-105575-0003.flac\n",
            "LibriSpeech/dev-clean/7976/105575/7976-105575-0016.flac\n",
            "LibriSpeech/dev-clean/7976/105575/7976-105575-0022.flac\n",
            "LibriSpeech/dev-clean/7976/105575/7976-105575-0012.flac\n",
            "LibriSpeech/dev-clean/7976/105575/7976-105575-0005.flac\n",
            "LibriSpeech/dev-clean/7976/105575/7976-105575-0027.flac\n",
            "LibriSpeech/dev-clean/7976/105575/7976-105575-0023.flac\n",
            "LibriSpeech/dev-clean/7976/105575/7976-105575-0028.flac\n",
            "LibriSpeech/dev-clean/7976/105575/7976-105575-0029.flac\n",
            "LibriSpeech/dev-clean/7976/105575/7976-105575-0001.flac\n",
            "LibriSpeech/dev-clean/7976/105575/7976-105575-0018.flac\n",
            "LibriSpeech/dev-clean/7976/105575/7976-105575-0015.flac\n",
            "LibriSpeech/dev-clean/7976/105575/7976-105575-0024.flac\n",
            "LibriSpeech/dev-clean/7976/105575/7976-105575-0011.flac\n",
            "LibriSpeech/dev-clean/7976/105575/7976-105575-0014.flac\n",
            "LibriSpeech/dev-clean/7976/105575/7976-105575-0021.flac\n",
            "LibriSpeech/dev-clean/7976/110523/\n",
            "LibriSpeech/dev-clean/7976/110523/7976-110523-0009.flac\n",
            "LibriSpeech/dev-clean/7976/110523/7976-110523-0007.flac\n",
            "LibriSpeech/dev-clean/7976/110523/7976-110523-0011.flac\n",
            "LibriSpeech/dev-clean/7976/110523/7976-110523-0012.flac\n",
            "LibriSpeech/dev-clean/7976/110523/7976-110523-0019.flac\n",
            "LibriSpeech/dev-clean/7976/110523/7976-110523-0000.flac\n",
            "LibriSpeech/dev-clean/7976/110523/7976-110523-0002.flac\n",
            "LibriSpeech/dev-clean/7976/110523/7976-110523-0014.flac\n",
            "LibriSpeech/dev-clean/7976/110523/7976-110523-0010.flac\n",
            "LibriSpeech/dev-clean/7976/110523/7976-110523-0020.flac\n",
            "LibriSpeech/dev-clean/7976/110523/7976-110523-0021.flac\n",
            "LibriSpeech/dev-clean/7976/110523/7976-110523-0018.flac\n",
            "LibriSpeech/dev-clean/7976/110523/7976-110523-0006.flac\n",
            "LibriSpeech/dev-clean/7976/110523/7976-110523-0008.flac\n",
            "LibriSpeech/dev-clean/7976/110523/7976-110523-0013.flac\n",
            "LibriSpeech/dev-clean/7976/110523/7976-110523-0004.flac\n",
            "LibriSpeech/dev-clean/7976/110523/7976-110523-0005.flac\n",
            "LibriSpeech/dev-clean/7976/110523/7976-110523-0003.flac\n",
            "LibriSpeech/dev-clean/7976/110523/7976-110523-0017.flac\n",
            "LibriSpeech/dev-clean/7976/110523/7976-110523-0001.flac\n",
            "LibriSpeech/dev-clean/7976/110523/7976-110523-0016.flac\n",
            "LibriSpeech/dev-clean/7976/110523/7976-110523-0015.flac\n",
            "LibriSpeech/dev-clean/7976/110523/7976-110523.trans.txt\n",
            "LibriSpeech/dev-clean/1988/\n",
            "LibriSpeech/dev-clean/1988/147956/\n",
            "LibriSpeech/dev-clean/1988/147956/1988-147956-0018.flac\n",
            "LibriSpeech/dev-clean/1988/147956/1988-147956-0010.flac\n",
            "LibriSpeech/dev-clean/1988/147956/1988-147956-0024.flac\n",
            "LibriSpeech/dev-clean/1988/147956/1988-147956-0007.flac\n",
            "LibriSpeech/dev-clean/1988/147956/1988-147956-0023.flac\n",
            "LibriSpeech/dev-clean/1988/147956/1988-147956-0025.flac\n",
            "LibriSpeech/dev-clean/1988/147956/1988-147956-0004.flac\n",
            "LibriSpeech/dev-clean/1988/147956/1988-147956-0015.flac\n",
            "LibriSpeech/dev-clean/1988/147956/1988-147956-0009.flac\n",
            "LibriSpeech/dev-clean/1988/147956/1988-147956-0013.flac\n",
            "LibriSpeech/dev-clean/1988/147956/1988-147956-0001.flac\n",
            "LibriSpeech/dev-clean/1988/147956/1988-147956-0016.flac\n",
            "LibriSpeech/dev-clean/1988/147956/1988-147956-0005.flac\n",
            "LibriSpeech/dev-clean/1988/147956/1988-147956-0014.flac\n",
            "LibriSpeech/dev-clean/1988/147956/1988-147956-0020.flac\n",
            "LibriSpeech/dev-clean/1988/147956/1988-147956-0029.flac\n",
            "LibriSpeech/dev-clean/1988/147956/1988-147956-0002.flac\n",
            "LibriSpeech/dev-clean/1988/147956/1988-147956-0006.flac\n",
            "LibriSpeech/dev-clean/1988/147956/1988-147956-0000.flac\n",
            "LibriSpeech/dev-clean/1988/147956/1988-147956-0012.flac\n",
            "LibriSpeech/dev-clean/1988/147956/1988-147956-0026.flac\n",
            "LibriSpeech/dev-clean/1988/147956/1988-147956-0028.flac\n",
            "LibriSpeech/dev-clean/1988/147956/1988-147956.trans.txt\n",
            "LibriSpeech/dev-clean/1988/147956/1988-147956-0022.flac\n",
            "LibriSpeech/dev-clean/1988/147956/1988-147956-0021.flac\n",
            "LibriSpeech/dev-clean/1988/147956/1988-147956-0019.flac\n",
            "LibriSpeech/dev-clean/1988/147956/1988-147956-0008.flac\n",
            "LibriSpeech/dev-clean/1988/147956/1988-147956-0017.flac\n",
            "LibriSpeech/dev-clean/1988/147956/1988-147956-0003.flac\n",
            "LibriSpeech/dev-clean/1988/147956/1988-147956-0027.flac\n",
            "LibriSpeech/dev-clean/1988/147956/1988-147956-0011.flac\n",
            "LibriSpeech/dev-clean/1988/148538/\n",
            "LibriSpeech/dev-clean/1988/148538/1988-148538-0003.flac\n",
            "LibriSpeech/dev-clean/1988/148538/1988-148538-0002.flac\n",
            "LibriSpeech/dev-clean/1988/148538/1988-148538.trans.txt\n",
            "LibriSpeech/dev-clean/1988/148538/1988-148538-0009.flac\n",
            "LibriSpeech/dev-clean/1988/148538/1988-148538-0004.flac\n",
            "LibriSpeech/dev-clean/1988/148538/1988-148538-0007.flac\n",
            "LibriSpeech/dev-clean/1988/148538/1988-148538-0006.flac\n",
            "LibriSpeech/dev-clean/1988/148538/1988-148538-0005.flac\n",
            "LibriSpeech/dev-clean/1988/148538/1988-148538-0010.flac\n",
            "LibriSpeech/dev-clean/1988/148538/1988-148538-0000.flac\n",
            "LibriSpeech/dev-clean/1988/148538/1988-148538-0013.flac\n",
            "LibriSpeech/dev-clean/1988/148538/1988-148538-0015.flac\n",
            "LibriSpeech/dev-clean/1988/148538/1988-148538-0001.flac\n",
            "\n",
            "gzip: stdin: unexpected end of file\n",
            "tar: Unexpected EOF in archive\n",
            "tar: Unexpected EOF in archive\n",
            "tar: Error is not recoverable: exiting now\n"
          ],
          "name": "stdout"
        }
      ]
    },
    {
      "cell_type": "markdown",
      "metadata": {
        "id": "dOMEWyplO9MQ"
      },
      "source": [
        "##Speech recognition"
      ]
    },
    {
      "cell_type": "markdown",
      "metadata": {
        "id": "rjB2OuLdThQQ"
      },
      "source": [
        "###Trying out a snippet"
      ]
    },
    {
      "cell_type": "code",
      "metadata": {
        "id": "nF6Sif8SO2Yj"
      },
      "source": [
        "test_speech = sr.AudioFile('/content/LibriSpeech/dev-clean/2035/147960/2035-147960-0000.flac')\n",
        "\n",
        "with test_speech as source:\n",
        "  libri_audio = recognizer.record(source)"
      ],
      "execution_count": null,
      "outputs": []
    },
    {
      "cell_type": "code",
      "metadata": {
        "id": "yBe3XhBOTDiy"
      },
      "source": [
        "libri_transcript = recognizer.recognize_google(libre_audio)"
      ],
      "execution_count": null,
      "outputs": []
    },
    {
      "cell_type": "code",
      "metadata": {
        "id": "RkZ9tWOuTcJE",
        "outputId": "58cd5e51-3909-4aaa-aa6b-022fd0bb0139",
        "colab": {
          "base_uri": "https://localhost:8080/",
          "height": 54
        }
      },
      "source": [
        "libri_transcript"
      ],
      "execution_count": null,
      "outputs": [
        {
          "output_type": "execute_result",
          "data": {
            "application/vnd.google.colaboratory.intrinsic+json": {
              "type": "string"
            },
            "text/plain": [
              "'she was four years older than I to be sure and had seen more of the world but I was a boy and she was a girl and I resented her protecting Manor'"
            ]
          },
          "metadata": {
            "tags": []
          },
          "execution_count": 18
        }
      ]
    },
    {
      "cell_type": "markdown",
      "metadata": {
        "id": "rXFWTtDhTjI3"
      },
      "source": [
        "###Transcribing some more "
      ]
    },
    {
      "cell_type": "code",
      "metadata": {
        "id": "obWtYgsgTmo9"
      },
      "source": [
        "import os\n",
        "\n",
        "audio = []\n",
        "dir = '/content/LibriSpeech/dev-clean/2035/147960'\n",
        "\n",
        "for filename in os.listdir('/content/LibriSpeech/dev-clean/2035/147960'):\n",
        "  if not filename.endswith('.txt'):\n",
        "    speech = sr.AudioFile(dir + '/' + filename)\n",
        "    with speech as source:\n",
        "      audio.append(recognizer.record(source))"
      ],
      "execution_count": null,
      "outputs": []
    },
    {
      "cell_type": "code",
      "metadata": {
        "id": "6Tv7qSW2VNfc"
      },
      "source": [
        "transcription = []\n",
        "\n",
        "for clip in audio:\n",
        "  transcription.append(recognizer.recognize_google(clip))"
      ],
      "execution_count": null,
      "outputs": []
    },
    {
      "cell_type": "markdown",
      "metadata": {
        "id": "cmbtZl-oO_fO"
      },
      "source": [
        "##Try out fuzzy string matching"
      ]
    },
    {
      "cell_type": "code",
      "metadata": {
        "id": "E54lLPNwVfxp",
        "outputId": "2b34c055-ca27-45d8-94cc-ba69b46174fa",
        "colab": {
          "base_uri": "https://localhost:8080/",
          "height": 55
        }
      },
      "source": [
        "#look at data\n",
        "print(transcription)"
      ],
      "execution_count": 10,
      "outputs": [
        {
          "output_type": "stream",
          "text": [
            "['she was four years older than I to be sure and had seen more of the world but I was a boy and she was a girl and I resented her protecting Manor', 'snake of his size in fighting trim would be more than any boy could handle', 'you can stand right up and talk to you he could did he Fight Hard', \"look Tony that's his poison I said\", \"I know I'm awful Jim I was so scared\", \"iworld round and they're on one of those dry gravel beds was the biggest snake I had ever seen\", \"I don't think that mean\", \"one day when I rode over to the shimerdas I found engineer starting off on foot for Russian Peter's house to borrow a spade Ambrose needed\", 'Otto Fuchs was the first one we met', 'we decided Antonia should ride dude home and I would walk', 'this change came about from an adventure we had together', 'it was on one of these gravel beds that I met my adventure', 'I never know you were so brave Jim she went on comfortingly', \"there's been another black Frost the night before and the air was clear and heavy is wine\", 'explain to Antonia how this man that he was 24 years old that he must have been there when white men first came left on from Buffalo and Indian x', 'a faint fetid smell came from him in a thread of green liquid Ooze from his crushed head', 'I followed with the Spade over my shoulder dragging my snake']\n"
          ],
          "name": "stdout"
        }
      ]
    },
    {
      "cell_type": "code",
      "metadata": {
        "id": "8asoJD-iVwAZ",
        "outputId": "fd791aeb-6082-4d17-a100-0d48dd64268d",
        "colab": {
          "base_uri": "https://localhost:8080/",
          "height": 110
        }
      },
      "source": [
        "!pip install fuzzywuzzy"
      ],
      "execution_count": 11,
      "outputs": [
        {
          "output_type": "stream",
          "text": [
            "Collecting fuzzywuzzy\n",
            "  Downloading https://files.pythonhosted.org/packages/43/ff/74f23998ad2f93b945c0309f825be92e04e0348e062026998b5eefef4c33/fuzzywuzzy-0.18.0-py2.py3-none-any.whl\n",
            "Installing collected packages: fuzzywuzzy\n",
            "Successfully installed fuzzywuzzy-0.18.0\n"
          ],
          "name": "stdout"
        }
      ]
    },
    {
      "cell_type": "code",
      "metadata": {
        "id": "Wya4OraLV7xw",
        "outputId": "da491c65-6d14-4289-c47f-0715836659cb",
        "colab": {
          "base_uri": "https://localhost:8080/",
          "height": 73
        }
      },
      "source": [
        "from fuzzywuzzy import fuzz"
      ],
      "execution_count": 12,
      "outputs": [
        {
          "output_type": "stream",
          "text": [
            "/usr/local/lib/python3.6/dist-packages/fuzzywuzzy/fuzz.py:11: UserWarning: Using slow pure-python SequenceMatcher. Install python-Levenshtein to remove this warning\n",
            "  warnings.warn('Using slow pure-python SequenceMatcher. Install python-Levenshtein to remove this warning')\n"
          ],
          "name": "stderr"
        }
      ]
    },
    {
      "cell_type": "code",
      "metadata": {
        "id": "DAFR9_IsV-5y"
      },
      "source": [
        "#read actual transcript\n",
        "fs = open('/content/LibriSpeech/dev-clean/2035/147960/2035-147960.trans.txt', 'r')\n",
        "text = fs.read()\n",
        "fs.close()"
      ],
      "execution_count": 29,
      "outputs": []
    },
    {
      "cell_type": "code",
      "metadata": {
        "id": "J9Q3K_j0WhAH",
        "outputId": "0d2338ab-ec06-4ddf-d906-c4ea8a2ceea7",
        "colab": {
          "base_uri": "https://localhost:8080/",
          "height": 163
        }
      },
      "source": [
        "text"
      ],
      "execution_count": 14,
      "outputs": [
        {
          "output_type": "execute_result",
          "data": {
            "application/vnd.google.colaboratory.intrinsic+json": {
              "type": "string"
            },
            "text/plain": [
              "\"2035-147960-0000 SHE WAS FOUR YEARS OLDER THAN I TO BE SURE AND HAD SEEN MORE OF THE WORLD BUT I WAS A BOY AND SHE WAS A GIRL AND I RESENTED HER PROTECTING MANNER\\n2035-147960-0001 THIS CHANGE CAME ABOUT FROM AN ADVENTURE WE HAD TOGETHER\\n2035-147960-0002 ONE DAY WHEN I RODE OVER TO THE SHIMERDAS I FOUND ANTONIA STARTING OFF ON FOOT FOR RUSSIAN PETER'S HOUSE TO BORROW A SPADE AMBROSCH NEEDED\\n2035-147960-0003 THERE HAD BEEN ANOTHER BLACK FROST THE NIGHT BEFORE AND THE AIR WAS CLEAR AND HEADY AS WINE\\n2035-147960-0004 IT WAS ON ONE OF THESE GRAVEL BEDS THAT I MET MY ADVENTURE\\n2035-147960-0005 I WHIRLED ROUND AND THERE ON ONE OF THOSE DRY GRAVEL BEDS WAS THE BIGGEST SNAKE I HAD EVER SEEN\\n2035-147960-0006 I KNOW I AM JUST AWFUL JIM I WAS SO SCARED\\n2035-147960-0007 I NEVER KNOW YOU WAS SO BRAVE JIM SHE WENT ON COMFORTINGLY\\n2035-147960-0008 A FAINT FETID SMELL CAME FROM HIM AND A THREAD OF GREEN LIQUID OOZED FROM HIS CRUSHED HEAD\\n2035-147960-0009 LOOK TONY THAT'S HIS POISON I SAID\\n2035-147960-0010 I EXPLAINED TO ANTONIA HOW THIS MEANT THAT HE WAS TWENTY FOUR YEARS OLD THAT HE MUST HAVE BEEN THERE WHEN WHITE MEN FIRST CAME LEFT ON FROM BUFFALO AND INDIAN TIMES\\n2035-147960-0011 WE DECIDED THAT ANTONIA SHOULD RIDE DUDE HOME AND I WOULD WALK\\n2035-147960-0012 I FOLLOWED WITH THE SPADE OVER MY SHOULDER DRAGGING MY SNAKE\\n2035-147960-0013 OTTO FUCHS WAS THE FIRST ONE WE MET\\n2035-147960-0014 HE COULD STAND RIGHT UP AND TALK TO YOU HE COULD DID HE FIGHT HARD\\n2035-147960-0015 OTTO WINKED AT ME\\n2035-147960-0016 A SNAKE OF HIS SIZE IN FIGHTING TRIM WOULD BE MORE THAN ANY BOY COULD HANDLE\\n\""
            ]
          },
          "metadata": {
            "tags": []
          },
          "execution_count": 14
        }
      ]
    },
    {
      "cell_type": "code",
      "metadata": {
        "id": "up7Y9ZNhWj_S"
      },
      "source": [
        "text = text.splitlines()"
      ],
      "execution_count": 30,
      "outputs": []
    },
    {
      "cell_type": "code",
      "metadata": {
        "id": "BkDutfj8Wxvh"
      },
      "source": [
        "clean_text = []\n",
        "for sentence in text:\n",
        "  res = \"\".join(filter(lambda x: not x.isdigit(), sentence))\n",
        "  final = \"\".join(filter(lambda x: not x == '-', res))\n",
        "  clean_text.append(final.lower()) "
      ],
      "execution_count": 31,
      "outputs": []
    },
    {
      "cell_type": "code",
      "metadata": {
        "id": "UOeiEQjqXM3g",
        "outputId": "81334a86-fba8-474c-e1a8-a2befd3712ed",
        "colab": {
          "base_uri": "https://localhost:8080/",
          "height": 346
        }
      },
      "source": [
        "clean_text"
      ],
      "execution_count": 32,
      "outputs": [
        {
          "output_type": "execute_result",
          "data": {
            "text/plain": [
              "[' she was four years older than i to be sure and had seen more of the world but i was a boy and she was a girl and i resented her protecting manner',\n",
              " ' this change came about from an adventure we had together',\n",
              " \" one day when i rode over to the shimerdas i found antonia starting off on foot for russian peter's house to borrow a spade ambrosch needed\",\n",
              " ' there had been another black frost the night before and the air was clear and heady as wine',\n",
              " ' it was on one of these gravel beds that i met my adventure',\n",
              " ' i whirled round and there on one of those dry gravel beds was the biggest snake i had ever seen',\n",
              " ' i know i am just awful jim i was so scared',\n",
              " ' i never know you was so brave jim she went on comfortingly',\n",
              " ' a faint fetid smell came from him and a thread of green liquid oozed from his crushed head',\n",
              " \" look tony that's his poison i said\",\n",
              " ' i explained to antonia how this meant that he was twenty four years old that he must have been there when white men first came left on from buffalo and indian times',\n",
              " ' we decided that antonia should ride dude home and i would walk',\n",
              " ' i followed with the spade over my shoulder dragging my snake',\n",
              " ' otto fuchs was the first one we met',\n",
              " ' he could stand right up and talk to you he could did he fight hard',\n",
              " ' otto winked at me',\n",
              " ' a snake of his size in fighting trim would be more than any boy could handle']"
            ]
          },
          "metadata": {
            "tags": []
          },
          "execution_count": 32
        }
      ]
    },
    {
      "cell_type": "code",
      "metadata": {
        "id": "tPNPrvdUXjXJ"
      },
      "source": [
        "audio_transcript = []\n",
        "real_text = []\n",
        "similarities = []\n",
        "\n",
        "for statement in transcription:\n",
        "  for text in clean_text:\n",
        "    num = fuzz.token_set_ratio(statement, text)\n",
        "    if num > 70:\n",
        "      similarities.append(num)\n",
        "      real_text.append(text)\n",
        "      audio_transcript.append(statement)\n",
        "      break\n"
      ],
      "execution_count": 33,
      "outputs": []
    },
    {
      "cell_type": "code",
      "metadata": {
        "id": "19KyQFEeEzQo"
      },
      "source": [
        "sentences = pd.DataFrame(data=list(zip(audio_transcript, \n",
        "                                       real_text, similarities)), \n",
        "                         columns=['audio', 'actual text', 'similarity'])"
      ],
      "execution_count": 34,
      "outputs": []
    },
    {
      "cell_type": "code",
      "metadata": {
        "id": "Sp-c9Ce-FYEo",
        "outputId": "796f7bcb-7f76-4574-db26-b6d865db687f",
        "colab": {
          "base_uri": "https://localhost:8080/",
          "height": 363
        }
      },
      "source": [
        "sentences.head(10)"
      ],
      "execution_count": 35,
      "outputs": [
        {
          "output_type": "execute_result",
          "data": {
            "text/html": [
              "<div>\n",
              "<style scoped>\n",
              "    .dataframe tbody tr th:only-of-type {\n",
              "        vertical-align: middle;\n",
              "    }\n",
              "\n",
              "    .dataframe tbody tr th {\n",
              "        vertical-align: top;\n",
              "    }\n",
              "\n",
              "    .dataframe thead th {\n",
              "        text-align: right;\n",
              "    }\n",
              "</style>\n",
              "<table border=\"1\" class=\"dataframe\">\n",
              "  <thead>\n",
              "    <tr style=\"text-align: right;\">\n",
              "      <th></th>\n",
              "      <th>audio</th>\n",
              "      <th>actual text</th>\n",
              "      <th>similarity</th>\n",
              "    </tr>\n",
              "  </thead>\n",
              "  <tbody>\n",
              "    <tr>\n",
              "      <th>0</th>\n",
              "      <td>she was four years older than I to be sure and...</td>\n",
              "      <td>she was four years older than i to be sure an...</td>\n",
              "      <td>99</td>\n",
              "    </tr>\n",
              "    <tr>\n",
              "      <th>1</th>\n",
              "      <td>snake of his size in fighting trim would be mo...</td>\n",
              "      <td>a snake of his size in fighting trim would be...</td>\n",
              "      <td>100</td>\n",
              "    </tr>\n",
              "    <tr>\n",
              "      <th>2</th>\n",
              "      <td>you can stand right up and talk to you he coul...</td>\n",
              "      <td>he could stand right up and talk to you he co...</td>\n",
              "      <td>100</td>\n",
              "    </tr>\n",
              "    <tr>\n",
              "      <th>3</th>\n",
              "      <td>look Tony that's his poison I said</td>\n",
              "      <td>look tony that's his poison i said</td>\n",
              "      <td>100</td>\n",
              "    </tr>\n",
              "    <tr>\n",
              "      <th>4</th>\n",
              "      <td>I know I'm awful Jim I was so scared</td>\n",
              "      <td>i know i am just awful jim i was so scared</td>\n",
              "      <td>97</td>\n",
              "    </tr>\n",
              "    <tr>\n",
              "      <th>5</th>\n",
              "      <td>iworld round and they're on one of those dry g...</td>\n",
              "      <td>i whirled round and there on one of those dry...</td>\n",
              "      <td>92</td>\n",
              "    </tr>\n",
              "    <tr>\n",
              "      <th>6</th>\n",
              "      <td>one day when I rode over to the shimerdas I fo...</td>\n",
              "      <td>one day when i rode over to the shimerdas i f...</td>\n",
              "      <td>95</td>\n",
              "    </tr>\n",
              "    <tr>\n",
              "      <th>7</th>\n",
              "      <td>Otto Fuchs was the first one we met</td>\n",
              "      <td>otto fuchs was the first one we met</td>\n",
              "      <td>100</td>\n",
              "    </tr>\n",
              "    <tr>\n",
              "      <th>8</th>\n",
              "      <td>we decided Antonia should ride dude home and I...</td>\n",
              "      <td>we decided that antonia should ride dude home...</td>\n",
              "      <td>100</td>\n",
              "    </tr>\n",
              "    <tr>\n",
              "      <th>9</th>\n",
              "      <td>this change came about from an adventure we ha...</td>\n",
              "      <td>this change came about from an adventure we h...</td>\n",
              "      <td>100</td>\n",
              "    </tr>\n",
              "  </tbody>\n",
              "</table>\n",
              "</div>"
            ],
            "text/plain": [
              "                                               audio  ... similarity\n",
              "0  she was four years older than I to be sure and...  ...         99\n",
              "1  snake of his size in fighting trim would be mo...  ...        100\n",
              "2  you can stand right up and talk to you he coul...  ...        100\n",
              "3                 look Tony that's his poison I said  ...        100\n",
              "4               I know I'm awful Jim I was so scared  ...         97\n",
              "5  iworld round and they're on one of those dry g...  ...         92\n",
              "6  one day when I rode over to the shimerdas I fo...  ...         95\n",
              "7                Otto Fuchs was the first one we met  ...        100\n",
              "8  we decided Antonia should ride dude home and I...  ...        100\n",
              "9  this change came about from an adventure we ha...  ...        100\n",
              "\n",
              "[10 rows x 3 columns]"
            ]
          },
          "metadata": {
            "tags": []
          },
          "execution_count": 35
        }
      ]
    },
    {
      "cell_type": "markdown",
      "metadata": {
        "id": "Jq9Q4Cb1KVD4"
      },
      "source": [
        "#Prep audio for classification"
      ]
    },
    {
      "cell_type": "code",
      "metadata": {
        "id": "dVVUKCRiIQ_A",
        "outputId": "9ece7afb-417d-4852-fa03-21ca130c2d9d",
        "colab": {
          "base_uri": "https://localhost:8080/",
          "height": 255
        }
      },
      "source": [
        "!pip install librosa"
      ],
      "execution_count": 36,
      "outputs": [
        {
          "output_type": "stream",
          "text": [
            "Requirement already satisfied: librosa in /usr/local/lib/python3.6/dist-packages (0.6.3)\n",
            "Requirement already satisfied: scipy>=1.0.0 in /usr/local/lib/python3.6/dist-packages (from librosa) (1.4.1)\n",
            "Requirement already satisfied: numba>=0.38.0 in /usr/local/lib/python3.6/dist-packages (from librosa) (0.48.0)\n",
            "Requirement already satisfied: numpy>=1.8.0 in /usr/local/lib/python3.6/dist-packages (from librosa) (1.18.5)\n",
            "Requirement already satisfied: audioread>=2.0.0 in /usr/local/lib/python3.6/dist-packages (from librosa) (2.1.8)\n",
            "Requirement already satisfied: joblib>=0.12 in /usr/local/lib/python3.6/dist-packages (from librosa) (0.16.0)\n",
            "Requirement already satisfied: scikit-learn!=0.19.0,>=0.14.0 in /usr/local/lib/python3.6/dist-packages (from librosa) (0.22.2.post1)\n",
            "Requirement already satisfied: resampy>=0.2.0 in /usr/local/lib/python3.6/dist-packages (from librosa) (0.2.2)\n",
            "Requirement already satisfied: six>=1.3 in /usr/local/lib/python3.6/dist-packages (from librosa) (1.15.0)\n",
            "Requirement already satisfied: decorator>=3.0.0 in /usr/local/lib/python3.6/dist-packages (from librosa) (4.4.2)\n",
            "Requirement already satisfied: setuptools in /usr/local/lib/python3.6/dist-packages (from numba>=0.38.0->librosa) (50.3.0)\n",
            "Requirement already satisfied: llvmlite<0.32.0,>=0.31.0dev0 in /usr/local/lib/python3.6/dist-packages (from numba>=0.38.0->librosa) (0.31.0)\n"
          ],
          "name": "stdout"
        }
      ]
    },
    {
      "cell_type": "code",
      "metadata": {
        "id": "5ujfpTOqPndB"
      },
      "source": [
        "import librosa"
      ],
      "execution_count": 38,
      "outputs": []
    },
    {
      "cell_type": "code",
      "metadata": {
        "id": "aPpImQYhKiui"
      },
      "source": [
        "data, sampling_rate = librosa.load('/content/LibriSpeech/dev-clean/1988/147956/1988-147956-0000.flac')"
      ],
      "execution_count": 39,
      "outputs": []
    },
    {
      "cell_type": "code",
      "metadata": {
        "id": "DmglDFGfPtbm"
      },
      "source": [
        ""
      ],
      "execution_count": null,
      "outputs": []
    }
  ]
}